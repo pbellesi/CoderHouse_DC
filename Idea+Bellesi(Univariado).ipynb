{
  "cells": [
    {
      "cell_type": "code",
      "execution_count": 24,
      "id": "cc7f018e",
      "metadata": {
        "id": "cc7f018e"
      },
      "outputs": [],
      "source": [
        "import numpy as np \n",
        "import pandas as pd\n",
        "from matplotlib import pyplot as plt\n",
        "import seaborn as sns"
      ]
    },
    {
      "cell_type": "code",
      "execution_count": 40,
      "id": "e4a3a02d",
      "metadata": {
        "id": "e4a3a02d"
      },
      "outputs": [],
      "source": [
        "as_df = pd.read_csv('Datasetok.csv',encoding= 'latin-1', sep=\";\")"
      ]
    },
    {
      "cell_type": "code",
      "execution_count": 41,
      "id": "cd51d04f",
      "metadata": {
        "colab": {
          "base_uri": "https://localhost:8080/"
        },
        "id": "cd51d04f",
        "outputId": "3b4f9834-d794-44c5-d0f5-937807a64f85"
      },
      "outputs": [
        {
          "output_type": "stream",
          "name": "stdout",
          "text": [
            "Este data set tiene 209 filas, y 20 columnas\n"
          ]
        }
      ],
      "source": [
        "print('Este data set tiene ' + str(as_df.shape[0]) + ' filas, y ' + str(as_df.shape[1]) + ' columnas')"
      ]
    },
    {
      "cell_type": "code",
      "execution_count": 42,
      "id": "34a68641",
      "metadata": {
        "colab": {
          "base_uri": "https://localhost:8080/",
          "height": 374
        },
        "id": "34a68641",
        "outputId": "5ec68acf-2121-4fc9-98de-2c4807e97dc5"
      },
      "outputs": [
        {
          "output_type": "execute_result",
          "data": {
            "text/html": [
              "\n",
              "  <div id=\"df-e3da0c21-82c7-42ea-a7e5-fb3ce3001542\">\n",
              "    <div class=\"colab-df-container\">\n",
              "      <div>\n",
              "<style scoped>\n",
              "    .dataframe tbody tr th:only-of-type {\n",
              "        vertical-align: middle;\n",
              "    }\n",
              "\n",
              "    .dataframe tbody tr th {\n",
              "        vertical-align: top;\n",
              "    }\n",
              "\n",
              "    .dataframe thead th {\n",
              "        text-align: right;\n",
              "    }\n",
              "</style>\n",
              "<table border=\"1\" class=\"dataframe\">\n",
              "  <thead>\n",
              "    <tr style=\"text-align: right;\">\n",
              "      <th></th>\n",
              "      <th>Cuenta</th>\n",
              "      <th>Cliente</th>\n",
              "      <th>Localidad</th>\n",
              "      <th>Partido</th>\n",
              "      <th>Región</th>\n",
              "      <th>Medidor</th>\n",
              "      <th>Viviendas</th>\n",
              "      <th>Enero</th>\n",
              "      <th>Febrero</th>\n",
              "      <th>Marzo</th>\n",
              "      <th>Abril</th>\n",
              "      <th>Mayo</th>\n",
              "      <th>Junio</th>\n",
              "      <th>Julio</th>\n",
              "      <th>Agosto</th>\n",
              "      <th>Septiembre</th>\n",
              "      <th>Octubre</th>\n",
              "      <th>Noviembre</th>\n",
              "      <th>Diciembre</th>\n",
              "      <th>Unnamed: 19</th>\n",
              "    </tr>\n",
              "  </thead>\n",
              "  <tbody>\n",
              "    <tr>\n",
              "      <th>0</th>\n",
              "      <td>4706234997</td>\n",
              "      <td>1_DE_MAYO</td>\n",
              "      <td>Tortuguitas</td>\n",
              "      <td>Malvinas_Argentinas</td>\n",
              "      <td>Región_3</td>\n",
              "      <td>199685-490</td>\n",
              "      <td>179</td>\n",
              "      <td>44900</td>\n",
              "      <td>41450</td>\n",
              "      <td>37050</td>\n",
              "      <td>37540</td>\n",
              "      <td>62500</td>\n",
              "      <td>88440</td>\n",
              "      <td>86870</td>\n",
              "      <td>86520</td>\n",
              "      <td>67280</td>\n",
              "      <td>50340</td>\n",
              "      <td>39480</td>\n",
              "      <td>39260</td>\n",
              "      <td>NaN</td>\n",
              "    </tr>\n",
              "    <tr>\n",
              "      <th>1</th>\n",
              "      <td>9435851244</td>\n",
              "      <td>9_DE_JULIO</td>\n",
              "      <td>Jose_C_Paz</td>\n",
              "      <td>Jose_C_Paz</td>\n",
              "      <td>Región_3</td>\n",
              "      <td>4495128-562</td>\n",
              "      <td>643</td>\n",
              "      <td>5004</td>\n",
              "      <td>4294</td>\n",
              "      <td>4766</td>\n",
              "      <td>5326</td>\n",
              "      <td>8559</td>\n",
              "      <td>12906</td>\n",
              "      <td>13949</td>\n",
              "      <td>13040</td>\n",
              "      <td>9172</td>\n",
              "      <td>6138</td>\n",
              "      <td>5863</td>\n",
              "      <td>6531</td>\n",
              "      <td>NaN</td>\n",
              "    </tr>\n",
              "    <tr>\n",
              "      <th>2</th>\n",
              "      <td>6766855234</td>\n",
              "      <td>9_DE_JULIO</td>\n",
              "      <td>Jose_C_Paz</td>\n",
              "      <td>Jose_C_Paz</td>\n",
              "      <td>Región_3</td>\n",
              "      <td>4495127-562</td>\n",
              "      <td>643</td>\n",
              "      <td>6564</td>\n",
              "      <td>5659</td>\n",
              "      <td>5014</td>\n",
              "      <td>4705</td>\n",
              "      <td>6849</td>\n",
              "      <td>10855</td>\n",
              "      <td>12439</td>\n",
              "      <td>12214</td>\n",
              "      <td>8067</td>\n",
              "      <td>5379</td>\n",
              "      <td>5007</td>\n",
              "      <td>5349</td>\n",
              "      <td>NaN</td>\n",
              "    </tr>\n",
              "    <tr>\n",
              "      <th>3</th>\n",
              "      <td>4951709577</td>\n",
              "      <td>ABASCAL</td>\n",
              "      <td>Jose_C_Paz</td>\n",
              "      <td>Jose_C_Paz</td>\n",
              "      <td>Región_3</td>\n",
              "      <td>18996254-560</td>\n",
              "      <td>176</td>\n",
              "      <td>15220</td>\n",
              "      <td>14324</td>\n",
              "      <td>17524</td>\n",
              "      <td>17137</td>\n",
              "      <td>26496</td>\n",
              "      <td>35808</td>\n",
              "      <td>38542</td>\n",
              "      <td>38588</td>\n",
              "      <td>27515</td>\n",
              "      <td>21920</td>\n",
              "      <td>19442</td>\n",
              "      <td>19470</td>\n",
              "      <td>NaN</td>\n",
              "    </tr>\n",
              "    <tr>\n",
              "      <th>4</th>\n",
              "      <td>4304787167</td>\n",
              "      <td>AGUSTONI</td>\n",
              "      <td>Del_Viso</td>\n",
              "      <td>Pilar</td>\n",
              "      <td>Región_3</td>\n",
              "      <td>4495138-562</td>\n",
              "      <td>286</td>\n",
              "      <td>10230</td>\n",
              "      <td>9514</td>\n",
              "      <td>8633</td>\n",
              "      <td>9629</td>\n",
              "      <td>15565</td>\n",
              "      <td>19895</td>\n",
              "      <td>21914</td>\n",
              "      <td>20312</td>\n",
              "      <td>16071</td>\n",
              "      <td>15250</td>\n",
              "      <td>11943</td>\n",
              "      <td>11817</td>\n",
              "      <td>NaN</td>\n",
              "    </tr>\n",
              "  </tbody>\n",
              "</table>\n",
              "</div>\n",
              "      <button class=\"colab-df-convert\" onclick=\"convertToInteractive('df-e3da0c21-82c7-42ea-a7e5-fb3ce3001542')\"\n",
              "              title=\"Convert this dataframe to an interactive table.\"\n",
              "              style=\"display:none;\">\n",
              "        \n",
              "  <svg xmlns=\"http://www.w3.org/2000/svg\" height=\"24px\"viewBox=\"0 0 24 24\"\n",
              "       width=\"24px\">\n",
              "    <path d=\"M0 0h24v24H0V0z\" fill=\"none\"/>\n",
              "    <path d=\"M18.56 5.44l.94 2.06.94-2.06 2.06-.94-2.06-.94-.94-2.06-.94 2.06-2.06.94zm-11 1L8.5 8.5l.94-2.06 2.06-.94-2.06-.94L8.5 2.5l-.94 2.06-2.06.94zm10 10l.94 2.06.94-2.06 2.06-.94-2.06-.94-.94-2.06-.94 2.06-2.06.94z\"/><path d=\"M17.41 7.96l-1.37-1.37c-.4-.4-.92-.59-1.43-.59-.52 0-1.04.2-1.43.59L10.3 9.45l-7.72 7.72c-.78.78-.78 2.05 0 2.83L4 21.41c.39.39.9.59 1.41.59.51 0 1.02-.2 1.41-.59l7.78-7.78 2.81-2.81c.8-.78.8-2.07 0-2.86zM5.41 20L4 18.59l7.72-7.72 1.47 1.35L5.41 20z\"/>\n",
              "  </svg>\n",
              "      </button>\n",
              "      \n",
              "  <style>\n",
              "    .colab-df-container {\n",
              "      display:flex;\n",
              "      flex-wrap:wrap;\n",
              "      gap: 12px;\n",
              "    }\n",
              "\n",
              "    .colab-df-convert {\n",
              "      background-color: #E8F0FE;\n",
              "      border: none;\n",
              "      border-radius: 50%;\n",
              "      cursor: pointer;\n",
              "      display: none;\n",
              "      fill: #1967D2;\n",
              "      height: 32px;\n",
              "      padding: 0 0 0 0;\n",
              "      width: 32px;\n",
              "    }\n",
              "\n",
              "    .colab-df-convert:hover {\n",
              "      background-color: #E2EBFA;\n",
              "      box-shadow: 0px 1px 2px rgba(60, 64, 67, 0.3), 0px 1px 3px 1px rgba(60, 64, 67, 0.15);\n",
              "      fill: #174EA6;\n",
              "    }\n",
              "\n",
              "    [theme=dark] .colab-df-convert {\n",
              "      background-color: #3B4455;\n",
              "      fill: #D2E3FC;\n",
              "    }\n",
              "\n",
              "    [theme=dark] .colab-df-convert:hover {\n",
              "      background-color: #434B5C;\n",
              "      box-shadow: 0px 1px 3px 1px rgba(0, 0, 0, 0.15);\n",
              "      filter: drop-shadow(0px 1px 2px rgba(0, 0, 0, 0.3));\n",
              "      fill: #FFFFFF;\n",
              "    }\n",
              "  </style>\n",
              "\n",
              "      <script>\n",
              "        const buttonEl =\n",
              "          document.querySelector('#df-e3da0c21-82c7-42ea-a7e5-fb3ce3001542 button.colab-df-convert');\n",
              "        buttonEl.style.display =\n",
              "          google.colab.kernel.accessAllowed ? 'block' : 'none';\n",
              "\n",
              "        async function convertToInteractive(key) {\n",
              "          const element = document.querySelector('#df-e3da0c21-82c7-42ea-a7e5-fb3ce3001542');\n",
              "          const dataTable =\n",
              "            await google.colab.kernel.invokeFunction('convertToInteractive',\n",
              "                                                     [key], {});\n",
              "          if (!dataTable) return;\n",
              "\n",
              "          const docLinkHtml = 'Like what you see? Visit the ' +\n",
              "            '<a target=\"_blank\" href=https://colab.research.google.com/notebooks/data_table.ipynb>data table notebook</a>'\n",
              "            + ' to learn more about interactive tables.';\n",
              "          element.innerHTML = '';\n",
              "          dataTable['output_type'] = 'display_data';\n",
              "          await google.colab.output.renderOutput(dataTable, element);\n",
              "          const docLink = document.createElement('div');\n",
              "          docLink.innerHTML = docLinkHtml;\n",
              "          element.appendChild(docLink);\n",
              "        }\n",
              "      </script>\n",
              "    </div>\n",
              "  </div>\n",
              "  "
            ],
            "text/plain": [
              "       Cuenta     Cliente    Localidad  ... Noviembre Diciembre Unnamed: 19\n",
              "0  4706234997   1_DE_MAYO  Tortuguitas  ...     39480     39260         NaN\n",
              "1  9435851244  9_DE_JULIO   Jose_C_Paz  ...      5863      6531         NaN\n",
              "2  6766855234  9_DE_JULIO   Jose_C_Paz  ...      5007      5349         NaN\n",
              "3  4951709577     ABASCAL   Jose_C_Paz  ...     19442     19470         NaN\n",
              "4  4304787167    AGUSTONI     Del_Viso  ...     11943     11817         NaN\n",
              "\n",
              "[5 rows x 20 columns]"
            ]
          },
          "metadata": {},
          "execution_count": 42
        }
      ],
      "source": [
        "as_df.head()"
      ]
    },
    {
      "cell_type": "code",
      "execution_count": 43,
      "id": "ea851458",
      "metadata": {
        "colab": {
          "base_uri": "https://localhost:8080/"
        },
        "id": "ea851458",
        "outputId": "54f59e9b-53ed-4e58-82a3-c447837a6e63"
      },
      "outputs": [
        {
          "output_type": "execute_result",
          "data": {
            "text/plain": [
              "Cuenta          int64\n",
              "Cliente        object\n",
              "Localidad      object\n",
              "Partido        object\n",
              "Región         object\n",
              "Medidor        object\n",
              "Viviendas       int64\n",
              "Enero          object\n",
              "Febrero        object\n",
              "Marzo          object\n",
              "Abril          object\n",
              "Mayo            int64\n",
              "Junio           int64\n",
              "Julio           int64\n",
              "Agosto          int64\n",
              "Septiembre      int64\n",
              "Octubre         int64\n",
              "Noviembre       int64\n",
              "Diciembre      object\n",
              "Unnamed: 19    object\n",
              "dtype: object"
            ]
          },
          "metadata": {},
          "execution_count": 43
        }
      ],
      "source": [
        "as_df.dtypes"
      ]
    },
    {
      "cell_type": "code",
      "execution_count": 44,
      "id": "92d2ab7b",
      "metadata": {
        "colab": {
          "base_uri": "https://localhost:8080/"
        },
        "id": "92d2ab7b",
        "outputId": "1c4d5de6-8869-4af9-8511-35a10e8aeb9d"
      },
      "outputs": [
        {
          "output_type": "execute_result",
          "data": {
            "text/plain": [
              "Cuenta         209\n",
              "Cliente        209\n",
              "Localidad      209\n",
              "Partido        209\n",
              "Región         209\n",
              "Medidor        209\n",
              "Viviendas      209\n",
              "Enero          206\n",
              "Febrero        209\n",
              "Marzo          209\n",
              "Abril          209\n",
              "Mayo           209\n",
              "Junio          209\n",
              "Julio          209\n",
              "Agosto         209\n",
              "Septiembre     209\n",
              "Octubre        209\n",
              "Noviembre      209\n",
              "Diciembre      209\n",
              "Unnamed: 19      2\n",
              "dtype: int64"
            ]
          },
          "metadata": {},
          "execution_count": 44
        }
      ],
      "source": [
        "as_df.count()"
      ]
    },
    {
      "cell_type": "code",
      "execution_count": 45,
      "id": "ca094362",
      "metadata": {
        "colab": {
          "base_uri": "https://localhost:8080/"
        },
        "id": "ca094362",
        "outputId": "d74c0853-88d3-4657-bb78-f39718dc938c"
      },
      "outputs": [
        {
          "output_type": "stream",
          "name": "stdout",
          "text": [
            "<class 'pandas.core.frame.DataFrame'>\n",
            "RangeIndex: 209 entries, 0 to 208\n",
            "Data columns (total 20 columns):\n",
            " #   Column       Non-Null Count  Dtype \n",
            "---  ------       --------------  ----- \n",
            " 0   Cuenta       209 non-null    int64 \n",
            " 1   Cliente      209 non-null    object\n",
            " 2   Localidad    209 non-null    object\n",
            " 3   Partido      209 non-null    object\n",
            " 4   Región       209 non-null    object\n",
            " 5   Medidor      209 non-null    object\n",
            " 6   Viviendas    209 non-null    int64 \n",
            " 7   Enero        206 non-null    object\n",
            " 8   Febrero      209 non-null    object\n",
            " 9   Marzo        209 non-null    object\n",
            " 10  Abril        209 non-null    object\n",
            " 11  Mayo         209 non-null    int64 \n",
            " 12  Junio        209 non-null    int64 \n",
            " 13  Julio        209 non-null    int64 \n",
            " 14  Agosto       209 non-null    int64 \n",
            " 15  Septiembre   209 non-null    int64 \n",
            " 16  Octubre      209 non-null    int64 \n",
            " 17  Noviembre    209 non-null    int64 \n",
            " 18  Diciembre    209 non-null    object\n",
            " 19  Unnamed: 19  2 non-null      object\n",
            "dtypes: int64(9), object(11)\n",
            "memory usage: 32.8+ KB\n"
          ]
        }
      ],
      "source": [
        "as_df.info()"
      ]
    },
    {
      "cell_type": "code",
      "execution_count": 46,
      "id": "1d5c4a14",
      "metadata": {
        "colab": {
          "base_uri": "https://localhost:8080/",
          "height": 332
        },
        "id": "1d5c4a14",
        "outputId": "7901b580-2b94-4bc6-c8ae-5d2b23572c59"
      },
      "outputs": [
        {
          "output_type": "execute_result",
          "data": {
            "text/html": [
              "\n",
              "  <div id=\"df-cf5d35fb-dbf2-4bcb-9395-39ec282bb9a6\">\n",
              "    <div class=\"colab-df-container\">\n",
              "      <div>\n",
              "<style scoped>\n",
              "    .dataframe tbody tr th:only-of-type {\n",
              "        vertical-align: middle;\n",
              "    }\n",
              "\n",
              "    .dataframe tbody tr th {\n",
              "        vertical-align: top;\n",
              "    }\n",
              "\n",
              "    .dataframe thead th {\n",
              "        text-align: right;\n",
              "    }\n",
              "</style>\n",
              "<table border=\"1\" class=\"dataframe\">\n",
              "  <thead>\n",
              "    <tr style=\"text-align: right;\">\n",
              "      <th></th>\n",
              "      <th>count</th>\n",
              "      <th>mean</th>\n",
              "      <th>std</th>\n",
              "      <th>min</th>\n",
              "      <th>25%</th>\n",
              "      <th>50%</th>\n",
              "      <th>75%</th>\n",
              "      <th>max</th>\n",
              "    </tr>\n",
              "  </thead>\n",
              "  <tbody>\n",
              "    <tr>\n",
              "      <th>Cuenta</th>\n",
              "      <td>209.0</td>\n",
              "      <td>5.367109e+09</td>\n",
              "      <td>2.882664e+09</td>\n",
              "      <td>118975183.0</td>\n",
              "      <td>2.800301e+09</td>\n",
              "      <td>5.566589e+09</td>\n",
              "      <td>7.862644e+09</td>\n",
              "      <td>9.980244e+09</td>\n",
              "    </tr>\n",
              "    <tr>\n",
              "      <th>Viviendas</th>\n",
              "      <td>209.0</td>\n",
              "      <td>1.050804e+03</td>\n",
              "      <td>1.289936e+03</td>\n",
              "      <td>26.0</td>\n",
              "      <td>2.250000e+02</td>\n",
              "      <td>3.700000e+02</td>\n",
              "      <td>1.999000e+03</td>\n",
              "      <td>4.713000e+03</td>\n",
              "    </tr>\n",
              "    <tr>\n",
              "      <th>Mayo</th>\n",
              "      <td>209.0</td>\n",
              "      <td>8.659845e+04</td>\n",
              "      <td>8.788943e+04</td>\n",
              "      <td>0.0</td>\n",
              "      <td>1.997300e+04</td>\n",
              "      <td>5.085000e+04</td>\n",
              "      <td>1.313270e+05</td>\n",
              "      <td>4.266900e+05</td>\n",
              "    </tr>\n",
              "    <tr>\n",
              "      <th>Junio</th>\n",
              "      <td>209.0</td>\n",
              "      <td>1.182131e+05</td>\n",
              "      <td>1.141736e+05</td>\n",
              "      <td>0.0</td>\n",
              "      <td>2.944000e+04</td>\n",
              "      <td>7.708000e+04</td>\n",
              "      <td>1.823160e+05</td>\n",
              "      <td>5.013200e+05</td>\n",
              "    </tr>\n",
              "    <tr>\n",
              "      <th>Julio</th>\n",
              "      <td>209.0</td>\n",
              "      <td>1.249917e+05</td>\n",
              "      <td>1.167598e+05</td>\n",
              "      <td>0.0</td>\n",
              "      <td>3.238600e+04</td>\n",
              "      <td>8.293000e+04</td>\n",
              "      <td>2.056800e+05</td>\n",
              "      <td>4.968400e+05</td>\n",
              "    </tr>\n",
              "    <tr>\n",
              "      <th>Agosto</th>\n",
              "      <td>209.0</td>\n",
              "      <td>1.209711e+05</td>\n",
              "      <td>1.112186e+05</td>\n",
              "      <td>0.0</td>\n",
              "      <td>3.222200e+04</td>\n",
              "      <td>8.112000e+04</td>\n",
              "      <td>1.890000e+05</td>\n",
              "      <td>4.535500e+05</td>\n",
              "    </tr>\n",
              "    <tr>\n",
              "      <th>Septiembre</th>\n",
              "      <td>209.0</td>\n",
              "      <td>9.410430e+04</td>\n",
              "      <td>8.659467e+04</td>\n",
              "      <td>0.0</td>\n",
              "      <td>2.354500e+04</td>\n",
              "      <td>6.580000e+04</td>\n",
              "      <td>1.420700e+05</td>\n",
              "      <td>3.658300e+05</td>\n",
              "    </tr>\n",
              "    <tr>\n",
              "      <th>Octubre</th>\n",
              "      <td>209.0</td>\n",
              "      <td>7.328733e+04</td>\n",
              "      <td>6.659157e+04</td>\n",
              "      <td>0.0</td>\n",
              "      <td>1.911400e+04</td>\n",
              "      <td>5.166000e+04</td>\n",
              "      <td>1.109500e+05</td>\n",
              "      <td>2.943700e+05</td>\n",
              "    </tr>\n",
              "    <tr>\n",
              "      <th>Noviembre</th>\n",
              "      <td>209.0</td>\n",
              "      <td>6.767849e+04</td>\n",
              "      <td>6.262318e+04</td>\n",
              "      <td>0.0</td>\n",
              "      <td>1.775800e+04</td>\n",
              "      <td>4.791800e+04</td>\n",
              "      <td>1.004010e+05</td>\n",
              "      <td>3.162270e+05</td>\n",
              "    </tr>\n",
              "  </tbody>\n",
              "</table>\n",
              "</div>\n",
              "      <button class=\"colab-df-convert\" onclick=\"convertToInteractive('df-cf5d35fb-dbf2-4bcb-9395-39ec282bb9a6')\"\n",
              "              title=\"Convert this dataframe to an interactive table.\"\n",
              "              style=\"display:none;\">\n",
              "        \n",
              "  <svg xmlns=\"http://www.w3.org/2000/svg\" height=\"24px\"viewBox=\"0 0 24 24\"\n",
              "       width=\"24px\">\n",
              "    <path d=\"M0 0h24v24H0V0z\" fill=\"none\"/>\n",
              "    <path d=\"M18.56 5.44l.94 2.06.94-2.06 2.06-.94-2.06-.94-.94-2.06-.94 2.06-2.06.94zm-11 1L8.5 8.5l.94-2.06 2.06-.94-2.06-.94L8.5 2.5l-.94 2.06-2.06.94zm10 10l.94 2.06.94-2.06 2.06-.94-2.06-.94-.94-2.06-.94 2.06-2.06.94z\"/><path d=\"M17.41 7.96l-1.37-1.37c-.4-.4-.92-.59-1.43-.59-.52 0-1.04.2-1.43.59L10.3 9.45l-7.72 7.72c-.78.78-.78 2.05 0 2.83L4 21.41c.39.39.9.59 1.41.59.51 0 1.02-.2 1.41-.59l7.78-7.78 2.81-2.81c.8-.78.8-2.07 0-2.86zM5.41 20L4 18.59l7.72-7.72 1.47 1.35L5.41 20z\"/>\n",
              "  </svg>\n",
              "      </button>\n",
              "      \n",
              "  <style>\n",
              "    .colab-df-container {\n",
              "      display:flex;\n",
              "      flex-wrap:wrap;\n",
              "      gap: 12px;\n",
              "    }\n",
              "\n",
              "    .colab-df-convert {\n",
              "      background-color: #E8F0FE;\n",
              "      border: none;\n",
              "      border-radius: 50%;\n",
              "      cursor: pointer;\n",
              "      display: none;\n",
              "      fill: #1967D2;\n",
              "      height: 32px;\n",
              "      padding: 0 0 0 0;\n",
              "      width: 32px;\n",
              "    }\n",
              "\n",
              "    .colab-df-convert:hover {\n",
              "      background-color: #E2EBFA;\n",
              "      box-shadow: 0px 1px 2px rgba(60, 64, 67, 0.3), 0px 1px 3px 1px rgba(60, 64, 67, 0.15);\n",
              "      fill: #174EA6;\n",
              "    }\n",
              "\n",
              "    [theme=dark] .colab-df-convert {\n",
              "      background-color: #3B4455;\n",
              "      fill: #D2E3FC;\n",
              "    }\n",
              "\n",
              "    [theme=dark] .colab-df-convert:hover {\n",
              "      background-color: #434B5C;\n",
              "      box-shadow: 0px 1px 3px 1px rgba(0, 0, 0, 0.15);\n",
              "      filter: drop-shadow(0px 1px 2px rgba(0, 0, 0, 0.3));\n",
              "      fill: #FFFFFF;\n",
              "    }\n",
              "  </style>\n",
              "\n",
              "      <script>\n",
              "        const buttonEl =\n",
              "          document.querySelector('#df-cf5d35fb-dbf2-4bcb-9395-39ec282bb9a6 button.colab-df-convert');\n",
              "        buttonEl.style.display =\n",
              "          google.colab.kernel.accessAllowed ? 'block' : 'none';\n",
              "\n",
              "        async function convertToInteractive(key) {\n",
              "          const element = document.querySelector('#df-cf5d35fb-dbf2-4bcb-9395-39ec282bb9a6');\n",
              "          const dataTable =\n",
              "            await google.colab.kernel.invokeFunction('convertToInteractive',\n",
              "                                                     [key], {});\n",
              "          if (!dataTable) return;\n",
              "\n",
              "          const docLinkHtml = 'Like what you see? Visit the ' +\n",
              "            '<a target=\"_blank\" href=https://colab.research.google.com/notebooks/data_table.ipynb>data table notebook</a>'\n",
              "            + ' to learn more about interactive tables.';\n",
              "          element.innerHTML = '';\n",
              "          dataTable['output_type'] = 'display_data';\n",
              "          await google.colab.output.renderOutput(dataTable, element);\n",
              "          const docLink = document.createElement('div');\n",
              "          docLink.innerHTML = docLinkHtml;\n",
              "          element.appendChild(docLink);\n",
              "        }\n",
              "      </script>\n",
              "    </div>\n",
              "  </div>\n",
              "  "
            ],
            "text/plain": [
              "            count          mean  ...           75%           max\n",
              "Cuenta      209.0  5.367109e+09  ...  7.862644e+09  9.980244e+09\n",
              "Viviendas   209.0  1.050804e+03  ...  1.999000e+03  4.713000e+03\n",
              "Mayo        209.0  8.659845e+04  ...  1.313270e+05  4.266900e+05\n",
              "Junio       209.0  1.182131e+05  ...  1.823160e+05  5.013200e+05\n",
              "Julio       209.0  1.249917e+05  ...  2.056800e+05  4.968400e+05\n",
              "Agosto      209.0  1.209711e+05  ...  1.890000e+05  4.535500e+05\n",
              "Septiembre  209.0  9.410430e+04  ...  1.420700e+05  3.658300e+05\n",
              "Octubre     209.0  7.328733e+04  ...  1.109500e+05  2.943700e+05\n",
              "Noviembre   209.0  6.767849e+04  ...  1.004010e+05  3.162270e+05\n",
              "\n",
              "[9 rows x 8 columns]"
            ]
          },
          "metadata": {},
          "execution_count": 46
        }
      ],
      "source": [
        "as_df.describe().T"
      ]
    },
    {
      "cell_type": "code",
      "execution_count": 47,
      "id": "a51f9d6f",
      "metadata": {
        "colab": {
          "base_uri": "https://localhost:8080/",
          "height": 352
        },
        "id": "a51f9d6f",
        "outputId": "f5f69cb9-500f-4536-fc9d-911035d68fda"
      },
      "outputs": [
        {
          "output_type": "stream",
          "name": "stdout",
          "text": [
            "Asentamientos por partido\n"
          ]
        },
        {
          "output_type": "stream",
          "name": "stderr",
          "text": [
            "/usr/local/lib/python3.7/dist-packages/seaborn/_decorators.py:43: FutureWarning: Pass the following variable as a keyword arg: x. From version 0.12, the only valid positional argument will be `data`, and passing other arguments without an explicit keyword will result in an error or misinterpretation.\n",
            "  FutureWarning\n"
          ]
        },
        {
          "output_type": "display_data",
          "data": {
            "image/png": "[encoded data removed]",
            "text/plain": [
              "<Figure size 936x288 with 1 Axes>"
            ]
          },
          "metadata": {
            "needs_background": "light"
          }
        }
      ],
      "source": [
        "plt.figure(figsize=(13, 4))\n",
        "sns.countplot(as_df['Partido'].dropna(), order = as_df.Partido.value_counts().index)\n",
        "print('Asentamientos por partido')"
      ]
    },
    {
      "cell_type": "code",
      "execution_count": 48,
      "id": "0b5df35c",
      "metadata": {
        "colab": {
          "base_uri": "https://localhost:8080/",
          "height": 351
        },
        "id": "0b5df35c",
        "outputId": "768b008c-1efb-4829-fc86-718fa2d30dfe"
      },
      "outputs": [
        {
          "output_type": "stream",
          "name": "stderr",
          "text": [
            "/usr/local/lib/python3.7/dist-packages/seaborn/distributions.py:2619: FutureWarning: `distplot` is a deprecated function and will be removed in a future version. Please adapt your code to use either `displot` (a figure-level function with similar flexibility) or `histplot` (an axes-level function for histograms).\n",
            "  warnings.warn(msg, FutureWarning)\n"
          ]
        },
        {
          "output_type": "stream",
          "name": "stdout",
          "text": [
            "Distribución viviendas\n"
          ]
        },
        {
          "output_type": "display_data",
          "data": {
            "image/png": "[encoded data removed]",
            "text/plain": [
              "<Figure size 432x288 with 1 Axes>"
            ]
          },
          "metadata": {
            "needs_background": "light"
          }
        }
      ],
      "source": [
        "sns.distplot(as_df.Viviendas.dropna(), kde=False, bins = 30)\n",
        "print('Distribución viviendas') "
      ]
    },
    {
      "cell_type": "code",
      "execution_count": 54,
      "id": "cb36d845",
      "metadata": {
        "colab": {
          "base_uri": "https://localhost:8080/",
          "height": 362
        },
        "id": "cb36d845",
        "outputId": "4edcabe3-e342-4221-b3c9-4cc18701afac"
      },
      "outputs": [
        {
          "output_type": "stream",
          "name": "stderr",
          "text": [
            "/usr/local/lib/python3.7/dist-packages/seaborn/distributions.py:2619: FutureWarning: `distplot` is a deprecated function and will be removed in a future version. Please adapt your code to use either `displot` (a figure-level function with similar flexibility) or `histplot` (an axes-level function for histograms).\n",
            "  warnings.warn(msg, FutureWarning)\n"
          ]
        },
        {
          "output_type": "stream",
          "name": "stdout",
          "text": [
            "Densidad Consumos de Septiembre\n"
          ]
        },
        {
          "output_type": "display_data",
          "data": {
            "image/png": "[encoded data removed]",
            "text/plain": [
              "<Figure size 432x288 with 1 Axes>"
            ]
          },
          "metadata": {
            "needs_background": "light"
          }
        }
      ],
      "source": [
        "from seaborn import distplot\n",
        "distplot(as_df.Septiembre)\n",
        "print('Densidad Consumos de Septiembre') "
      ]
    },
    {
      "cell_type": "code",
      "source": [
        "from seaborn import boxplot\n",
        "boxplot(as_df.Junio, orient=\"v\")\n",
        "print('Distribución Consumos Junio') "
      ],
      "metadata": {
        "colab": {
          "base_uri": "https://localhost:8080/",
          "height": 386
        },
        "id": "4V7DcrYhn_9M",
        "outputId": "d77bbd08-170f-4a93-c0ac-4340a3cb7fc2"
      },
      "id": "4V7DcrYhn_9M",
      "execution_count": 55,
      "outputs": [
        {
          "output_type": "stream",
          "name": "stdout",
          "text": [
            "Distribución Consumos Junio\n"
          ]
        },
        {
          "output_type": "stream",
          "name": "stderr",
          "text": [
            "/usr/local/lib/python3.7/dist-packages/seaborn/_decorators.py:43: FutureWarning: Pass the following variable as a keyword arg: x. From version 0.12, the only valid positional argument will be `data`, and passing other arguments without an explicit keyword will result in an error or misinterpretation.\n",
            "  FutureWarning\n",
            "/usr/local/lib/python3.7/dist-packages/seaborn/_core.py:1326: UserWarning: Vertical orientation ignored with only `x` specified.\n",
            "  warnings.warn(single_var_warning.format(\"Vertical\", \"x\"))\n"
          ]
        },
        {
          "output_type": "display_data",
          "data": {
            "image/png": "[encoded data removed]",
            "text/plain": [
              "<Figure size 432x288 with 1 Axes>"
            ]
          },
          "metadata": {
            "needs_background": "light"
          }
        }
      ]
    }
  ],
  "metadata": {
    "kernelspec": {
      "display_name": "Python 3 (ipykernel)",
      "language": "python",
      "name": "python3"
    },
    "language_info": {
      "codemirror_mode": {
        "name": "ipython",
        "version": 3
      },
      "file_extension": ".py",
      "mimetype": "text/x-python",
      "name": "python",
      "nbconvert_exporter": "python",
      "pygments_lexer": "ipython3",
      "version": "3.9.5"
    },
    "colab": {
      "name": "Idea+Bellesi(Univariado).ipynb",
      "provenance": []
    }
  },
  "nbformat": 4,
  "nbformat_minor": 5
}