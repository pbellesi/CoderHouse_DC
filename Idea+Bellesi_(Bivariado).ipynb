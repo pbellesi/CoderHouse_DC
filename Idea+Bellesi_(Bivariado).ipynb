{
  "cells": [
    {
      "cell_type": "code",
      "execution_count": 17,
      "id": "107853ce",
      "metadata": {
        "id": "107853ce"
      },
      "outputs": [],
      "source": [
        "import numpy as np\n",
        "import pandas as pd\n",
        "import matplotlib.pyplot as plt\n",
        "import seaborn as sns\n",
        "from matplotlib.ticker import FormatStrFormatter"
      ]
    },
    {
      "cell_type": "code",
      "execution_count": 2,
      "id": "a65b1940",
      "metadata": {
        "id": "a65b1940"
      },
      "outputs": [],
      "source": [
        "df = pd.read_csv('Datasetok.csv',encoding= 'latin-1', sep=\";\")"
      ]
    },
    {
      "cell_type": "code",
      "execution_count": 3,
      "id": "11f1e58a",
      "metadata": {
        "colab": {
          "base_uri": "https://localhost:8080/",
          "height": 374
        },
        "id": "11f1e58a",
        "outputId": "04c9f857-e883-410d-f72d-2becc071cb83"
      },
      "outputs": [
        {
          "output_type": "execute_result",
          "data": {
            "text/html": [
              "\n",
              "  <div id=\"df-b76e278a-b5f2-4dc0-b29a-60027523e283\">\n",
              "    <div class=\"colab-df-container\">\n",
              "      <div>\n",
              "<style scoped>\n",
              "    .dataframe tbody tr th:only-of-type {\n",
              "        vertical-align: middle;\n",
              "    }\n",
              "\n",
              "    .dataframe tbody tr th {\n",
              "        vertical-align: top;\n",
              "    }\n",
              "\n",
              "    .dataframe thead th {\n",
              "        text-align: right;\n",
              "    }\n",
              "</style>\n",
              "<table border=\"1\" class=\"dataframe\">\n",
              "  <thead>\n",
              "    <tr style=\"text-align: right;\">\n",
              "      <th></th>\n",
              "      <th>Cuenta</th>\n",
              "      <th>Cliente</th>\n",
              "      <th>Localidad</th>\n",
              "      <th>Partido</th>\n",
              "      <th>Región</th>\n",
              "      <th>Medidor</th>\n",
              "      <th>Viviendas</th>\n",
              "      <th>Enero</th>\n",
              "      <th>Febrero</th>\n",
              "      <th>Marzo</th>\n",
              "      <th>Abril</th>\n",
              "      <th>Mayo</th>\n",
              "      <th>Junio</th>\n",
              "      <th>Julio</th>\n",
              "      <th>Agosto</th>\n",
              "      <th>Septiembre</th>\n",
              "      <th>Octubre</th>\n",
              "      <th>Noviembre</th>\n",
              "      <th>Diciembre</th>\n",
              "      <th>Unnamed: 19</th>\n",
              "    </tr>\n",
              "  </thead>\n",
              "  <tbody>\n",
              "    <tr>\n",
              "      <th>0</th>\n",
              "      <td>4706234997</td>\n",
              "      <td>1_DE_MAYO</td>\n",
              "      <td>Tortuguitas</td>\n",
              "      <td>Malvinas_Argentinas</td>\n",
              "      <td>Región_3</td>\n",
              "      <td>199685-490</td>\n",
              "      <td>179</td>\n",
              "      <td>44900</td>\n",
              "      <td>41450</td>\n",
              "      <td>37050</td>\n",
              "      <td>37540</td>\n",
              "      <td>62500</td>\n",
              "      <td>88440</td>\n",
              "      <td>86870</td>\n",
              "      <td>86520</td>\n",
              "      <td>67280</td>\n",
              "      <td>50340</td>\n",
              "      <td>39480</td>\n",
              "      <td>39260</td>\n",
              "      <td>NaN</td>\n",
              "    </tr>\n",
              "    <tr>\n",
              "      <th>1</th>\n",
              "      <td>9435851244</td>\n",
              "      <td>9_DE_JULIO</td>\n",
              "      <td>Jose_C_Paz</td>\n",
              "      <td>Jose_C_Paz</td>\n",
              "      <td>Región_3</td>\n",
              "      <td>4495128-562</td>\n",
              "      <td>643</td>\n",
              "      <td>5004</td>\n",
              "      <td>4294</td>\n",
              "      <td>4766</td>\n",
              "      <td>5326</td>\n",
              "      <td>8559</td>\n",
              "      <td>12906</td>\n",
              "      <td>13949</td>\n",
              "      <td>13040</td>\n",
              "      <td>9172</td>\n",
              "      <td>6138</td>\n",
              "      <td>5863</td>\n",
              "      <td>6531</td>\n",
              "      <td>NaN</td>\n",
              "    </tr>\n",
              "    <tr>\n",
              "      <th>2</th>\n",
              "      <td>6766855234</td>\n",
              "      <td>9_DE_JULIO</td>\n",
              "      <td>Jose_C_Paz</td>\n",
              "      <td>Jose_C_Paz</td>\n",
              "      <td>Región_3</td>\n",
              "      <td>4495127-562</td>\n",
              "      <td>643</td>\n",
              "      <td>6564</td>\n",
              "      <td>5659</td>\n",
              "      <td>5014</td>\n",
              "      <td>4705</td>\n",
              "      <td>6849</td>\n",
              "      <td>10855</td>\n",
              "      <td>12439</td>\n",
              "      <td>12214</td>\n",
              "      <td>8067</td>\n",
              "      <td>5379</td>\n",
              "      <td>5007</td>\n",
              "      <td>5349</td>\n",
              "      <td>NaN</td>\n",
              "    </tr>\n",
              "    <tr>\n",
              "      <th>3</th>\n",
              "      <td>4951709577</td>\n",
              "      <td>ABASCAL</td>\n",
              "      <td>Jose_C_Paz</td>\n",
              "      <td>Jose_C_Paz</td>\n",
              "      <td>Región_3</td>\n",
              "      <td>18996254-560</td>\n",
              "      <td>176</td>\n",
              "      <td>15220</td>\n",
              "      <td>14324</td>\n",
              "      <td>17524</td>\n",
              "      <td>17137</td>\n",
              "      <td>26496</td>\n",
              "      <td>35808</td>\n",
              "      <td>38542</td>\n",
              "      <td>38588</td>\n",
              "      <td>27515</td>\n",
              "      <td>21920</td>\n",
              "      <td>19442</td>\n",
              "      <td>19470</td>\n",
              "      <td>NaN</td>\n",
              "    </tr>\n",
              "    <tr>\n",
              "      <th>4</th>\n",
              "      <td>4304787167</td>\n",
              "      <td>AGUSTONI</td>\n",
              "      <td>Del_Viso</td>\n",
              "      <td>Pilar</td>\n",
              "      <td>Región_3</td>\n",
              "      <td>4495138-562</td>\n",
              "      <td>286</td>\n",
              "      <td>10230</td>\n",
              "      <td>9514</td>\n",
              "      <td>8633</td>\n",
              "      <td>9629</td>\n",
              "      <td>15565</td>\n",
              "      <td>19895</td>\n",
              "      <td>21914</td>\n",
              "      <td>20312</td>\n",
              "      <td>16071</td>\n",
              "      <td>15250</td>\n",
              "      <td>11943</td>\n",
              "      <td>11817</td>\n",
              "      <td>NaN</td>\n",
              "    </tr>\n",
              "  </tbody>\n",
              "</table>\n",
              "</div>\n",
              "      <button class=\"colab-df-convert\" onclick=\"convertToInteractive('df-b76e278a-b5f2-4dc0-b29a-60027523e283')\"\n",
              "              title=\"Convert this dataframe to an interactive table.\"\n",
              "              style=\"display:none;\">\n",
              "        \n",
              "  <svg xmlns=\"http://www.w3.org/2000/svg\" height=\"24px\"viewBox=\"0 0 24 24\"\n",
              "       width=\"24px\">\n",
              "    <path d=\"M0 0h24v24H0V0z\" fill=\"none\"/>\n",
              "    <path d=\"M18.56 5.44l.94 2.06.94-2.06 2.06-.94-2.06-.94-.94-2.06-.94 2.06-2.06.94zm-11 1L8.5 8.5l.94-2.06 2.06-.94-2.06-.94L8.5 2.5l-.94 2.06-2.06.94zm10 10l.94 2.06.94-2.06 2.06-.94-2.06-.94-.94-2.06-.94 2.06-2.06.94z\"/><path d=\"M17.41 7.96l-1.37-1.37c-.4-.4-.92-.59-1.43-.59-.52 0-1.04.2-1.43.59L10.3 9.45l-7.72 7.72c-.78.78-.78 2.05 0 2.83L4 21.41c.39.39.9.59 1.41.59.51 0 1.02-.2 1.41-.59l7.78-7.78 2.81-2.81c.8-.78.8-2.07 0-2.86zM5.41 20L4 18.59l7.72-7.72 1.47 1.35L5.41 20z\"/>\n",
              "  </svg>\n",
              "      </button>\n",
              "      \n",
              "  <style>\n",
              "    .colab-df-container {\n",
              "      display:flex;\n",
              "      flex-wrap:wrap;\n",
              "      gap: 12px;\n",
              "    }\n",
              "\n",
              "    .colab-df-convert {\n",
              "      background-color: #E8F0FE;\n",
              "      border: none;\n",
              "      border-radius: 50%;\n",
              "      cursor: pointer;\n",
              "      display: none;\n",
              "      fill: #1967D2;\n",
              "      height: 32px;\n",
              "      padding: 0 0 0 0;\n",
              "      width: 32px;\n",
              "    }\n",
              "\n",
              "    .colab-df-convert:hover {\n",
              "      background-color: #E2EBFA;\n",
              "      box-shadow: 0px 1px 2px rgba(60, 64, 67, 0.3), 0px 1px 3px 1px rgba(60, 64, 67, 0.15);\n",
              "      fill: #174EA6;\n",
              "    }\n",
              "\n",
              "    [theme=dark] .colab-df-convert {\n",
              "      background-color: #3B4455;\n",
              "      fill: #D2E3FC;\n",
              "    }\n",
              "\n",
              "    [theme=dark] .colab-df-convert:hover {\n",
              "      background-color: #434B5C;\n",
              "      box-shadow: 0px 1px 3px 1px rgba(0, 0, 0, 0.15);\n",
              "      filter: drop-shadow(0px 1px 2px rgba(0, 0, 0, 0.3));\n",
              "      fill: #FFFFFF;\n",
              "    }\n",
              "  </style>\n",
              "\n",
              "      <script>\n",
              "        const buttonEl =\n",
              "          document.querySelector('#df-b76e278a-b5f2-4dc0-b29a-60027523e283 button.colab-df-convert');\n",
              "        buttonEl.style.display =\n",
              "          google.colab.kernel.accessAllowed ? 'block' : 'none';\n",
              "\n",
              "        async function convertToInteractive(key) {\n",
              "          const element = document.querySelector('#df-b76e278a-b5f2-4dc0-b29a-60027523e283');\n",
              "          const dataTable =\n",
              "            await google.colab.kernel.invokeFunction('convertToInteractive',\n",
              "                                                     [key], {});\n",
              "          if (!dataTable) return;\n",
              "\n",
              "          const docLinkHtml = 'Like what you see? Visit the ' +\n",
              "            '<a target=\"_blank\" href=https://colab.research.google.com/notebooks/data_table.ipynb>data table notebook</a>'\n",
              "            + ' to learn more about interactive tables.';\n",
              "          element.innerHTML = '';\n",
              "          dataTable['output_type'] = 'display_data';\n",
              "          await google.colab.output.renderOutput(dataTable, element);\n",
              "          const docLink = document.createElement('div');\n",
              "          docLink.innerHTML = docLinkHtml;\n",
              "          element.appendChild(docLink);\n",
              "        }\n",
              "      </script>\n",
              "    </div>\n",
              "  </div>\n",
              "  "
            ],
            "text/plain": [
              "       Cuenta     Cliente    Localidad  ... Noviembre Diciembre Unnamed: 19\n",
              "0  4706234997   1_DE_MAYO  Tortuguitas  ...     39480     39260         NaN\n",
              "1  9435851244  9_DE_JULIO   Jose_C_Paz  ...      5863      6531         NaN\n",
              "2  6766855234  9_DE_JULIO   Jose_C_Paz  ...      5007      5349         NaN\n",
              "3  4951709577     ABASCAL   Jose_C_Paz  ...     19442     19470         NaN\n",
              "4  4304787167    AGUSTONI     Del_Viso  ...     11943     11817         NaN\n",
              "\n",
              "[5 rows x 20 columns]"
            ]
          },
          "metadata": {},
          "execution_count": 3
        }
      ],
      "source": [
        "#Lectura del Dataset\n",
        "df.head()"
      ]
    },
    {
      "cell_type": "code",
      "execution_count": 4,
      "id": "9f93c1de",
      "metadata": {
        "colab": {
          "base_uri": "https://localhost:8080/"
        },
        "id": "9f93c1de",
        "outputId": "95b641e9-5f4a-49b5-e173-c5ff39948729"
      },
      "outputs": [
        {
          "output_type": "execute_result",
          "data": {
            "text/plain": [
              "(209, 20)"
            ]
          },
          "metadata": {},
          "execution_count": 4
        }
      ],
      "source": [
        "#Detallamos Shape\n",
        "df.shape"
      ]
    },
    {
      "cell_type": "code",
      "execution_count": 5,
      "id": "bb567242",
      "metadata": {
        "colab": {
          "base_uri": "https://localhost:8080/"
        },
        "id": "bb567242",
        "outputId": "edd71c54-205d-43a1-eb19-751667950d4c"
      },
      "outputs": [
        {
          "output_type": "execute_result",
          "data": {
            "text/plain": [
              "Cuenta         209\n",
              "Cliente        209\n",
              "Localidad      209\n",
              "Partido        209\n",
              "Región         209\n",
              "Medidor        209\n",
              "Viviendas      209\n",
              "Enero          206\n",
              "Febrero        209\n",
              "Marzo          209\n",
              "Abril          209\n",
              "Mayo           209\n",
              "Junio          209\n",
              "Julio          209\n",
              "Agosto         209\n",
              "Septiembre     209\n",
              "Octubre        209\n",
              "Noviembre      209\n",
              "Diciembre      209\n",
              "Unnamed: 19      2\n",
              "dtype: int64"
            ]
          },
          "metadata": {},
          "execution_count": 5
        }
      ],
      "source": [
        "#Mostramos cual es la totalidad de registros por columna\n",
        "df.count()"
      ]
    },
    {
      "cell_type": "code",
      "execution_count": 6,
      "id": "c6fbd1c5",
      "metadata": {
        "colab": {
          "base_uri": "https://localhost:8080/"
        },
        "id": "c6fbd1c5",
        "outputId": "b3d8b9bd-3601-42f5-a265-283f62cdd40e"
      },
      "outputs": [
        {
          "output_type": "execute_result",
          "data": {
            "text/plain": [
              "Cuenta          int64\n",
              "Cliente        object\n",
              "Localidad      object\n",
              "Partido        object\n",
              "Región         object\n",
              "Medidor        object\n",
              "Viviendas       int64\n",
              "Enero          object\n",
              "Febrero        object\n",
              "Marzo          object\n",
              "Abril          object\n",
              "Mayo            int64\n",
              "Junio           int64\n",
              "Julio           int64\n",
              "Agosto          int64\n",
              "Septiembre      int64\n",
              "Octubre         int64\n",
              "Noviembre       int64\n",
              "Diciembre      object\n",
              "Unnamed: 19    object\n",
              "dtype: object"
            ]
          },
          "metadata": {},
          "execution_count": 6
        }
      ],
      "source": [
        "#Vemos que tipos de datos tenemos\n",
        "df.dtypes"
      ]
    },
    {
      "cell_type": "code",
      "execution_count": 7,
      "id": "d3b15588",
      "metadata": {
        "colab": {
          "base_uri": "https://localhost:8080/"
        },
        "id": "d3b15588",
        "outputId": "f53eb8ee-214e-4588-d6d3-fa72624d0b03"
      },
      "outputs": [
        {
          "output_type": "execute_result",
          "data": {
            "text/plain": [
              "pandas.core.frame.DataFrame"
            ]
          },
          "metadata": {},
          "execution_count": 7
        }
      ],
      "source": [
        "#Tenemos una estructura te tipo\n",
        "type(df)"
      ]
    },
    {
      "cell_type": "code",
      "execution_count": 8,
      "id": "657a0b18",
      "metadata": {
        "scrolled": true,
        "colab": {
          "base_uri": "https://localhost:8080/",
          "height": 332
        },
        "id": "657a0b18",
        "outputId": "70a2b978-eca7-4405-d2d2-69810799e7c0"
      },
      "outputs": [
        {
          "output_type": "execute_result",
          "data": {
            "text/html": [
              "\n",
              "  <div id=\"df-1b04fc2a-94d4-4763-8bb1-dad0216e1cb3\">\n",
              "    <div class=\"colab-df-container\">\n",
              "      <div>\n",
              "<style scoped>\n",
              "    .dataframe tbody tr th:only-of-type {\n",
              "        vertical-align: middle;\n",
              "    }\n",
              "\n",
              "    .dataframe tbody tr th {\n",
              "        vertical-align: top;\n",
              "    }\n",
              "\n",
              "    .dataframe thead th {\n",
              "        text-align: right;\n",
              "    }\n",
              "</style>\n",
              "<table border=\"1\" class=\"dataframe\">\n",
              "  <thead>\n",
              "    <tr style=\"text-align: right;\">\n",
              "      <th></th>\n",
              "      <th>count</th>\n",
              "      <th>mean</th>\n",
              "      <th>std</th>\n",
              "      <th>min</th>\n",
              "      <th>25%</th>\n",
              "      <th>50%</th>\n",
              "      <th>75%</th>\n",
              "      <th>max</th>\n",
              "    </tr>\n",
              "  </thead>\n",
              "  <tbody>\n",
              "    <tr>\n",
              "      <th>Cuenta</th>\n",
              "      <td>209.0</td>\n",
              "      <td>5.367109e+09</td>\n",
              "      <td>2.882664e+09</td>\n",
              "      <td>118975183.0</td>\n",
              "      <td>2.800301e+09</td>\n",
              "      <td>5.566589e+09</td>\n",
              "      <td>7.862644e+09</td>\n",
              "      <td>9.980244e+09</td>\n",
              "    </tr>\n",
              "    <tr>\n",
              "      <th>Viviendas</th>\n",
              "      <td>209.0</td>\n",
              "      <td>1.050804e+03</td>\n",
              "      <td>1.289936e+03</td>\n",
              "      <td>26.0</td>\n",
              "      <td>2.250000e+02</td>\n",
              "      <td>3.700000e+02</td>\n",
              "      <td>1.999000e+03</td>\n",
              "      <td>4.713000e+03</td>\n",
              "    </tr>\n",
              "    <tr>\n",
              "      <th>Mayo</th>\n",
              "      <td>209.0</td>\n",
              "      <td>8.659845e+04</td>\n",
              "      <td>8.788943e+04</td>\n",
              "      <td>0.0</td>\n",
              "      <td>1.997300e+04</td>\n",
              "      <td>5.085000e+04</td>\n",
              "      <td>1.313270e+05</td>\n",
              "      <td>4.266900e+05</td>\n",
              "    </tr>\n",
              "    <tr>\n",
              "      <th>Junio</th>\n",
              "      <td>209.0</td>\n",
              "      <td>1.182131e+05</td>\n",
              "      <td>1.141736e+05</td>\n",
              "      <td>0.0</td>\n",
              "      <td>2.944000e+04</td>\n",
              "      <td>7.708000e+04</td>\n",
              "      <td>1.823160e+05</td>\n",
              "      <td>5.013200e+05</td>\n",
              "    </tr>\n",
              "    <tr>\n",
              "      <th>Julio</th>\n",
              "      <td>209.0</td>\n",
              "      <td>1.249917e+05</td>\n",
              "      <td>1.167598e+05</td>\n",
              "      <td>0.0</td>\n",
              "      <td>3.238600e+04</td>\n",
              "      <td>8.293000e+04</td>\n",
              "      <td>2.056800e+05</td>\n",
              "      <td>4.968400e+05</td>\n",
              "    </tr>\n",
              "    <tr>\n",
              "      <th>Agosto</th>\n",
              "      <td>209.0</td>\n",
              "      <td>1.209711e+05</td>\n",
              "      <td>1.112186e+05</td>\n",
              "      <td>0.0</td>\n",
              "      <td>3.222200e+04</td>\n",
              "      <td>8.112000e+04</td>\n",
              "      <td>1.890000e+05</td>\n",
              "      <td>4.535500e+05</td>\n",
              "    </tr>\n",
              "    <tr>\n",
              "      <th>Septiembre</th>\n",
              "      <td>209.0</td>\n",
              "      <td>9.410430e+04</td>\n",
              "      <td>8.659467e+04</td>\n",
              "      <td>0.0</td>\n",
              "      <td>2.354500e+04</td>\n",
              "      <td>6.580000e+04</td>\n",
              "      <td>1.420700e+05</td>\n",
              "      <td>3.658300e+05</td>\n",
              "    </tr>\n",
              "    <tr>\n",
              "      <th>Octubre</th>\n",
              "      <td>209.0</td>\n",
              "      <td>7.328733e+04</td>\n",
              "      <td>6.659157e+04</td>\n",
              "      <td>0.0</td>\n",
              "      <td>1.911400e+04</td>\n",
              "      <td>5.166000e+04</td>\n",
              "      <td>1.109500e+05</td>\n",
              "      <td>2.943700e+05</td>\n",
              "    </tr>\n",
              "    <tr>\n",
              "      <th>Noviembre</th>\n",
              "      <td>209.0</td>\n",
              "      <td>6.767849e+04</td>\n",
              "      <td>6.262318e+04</td>\n",
              "      <td>0.0</td>\n",
              "      <td>1.775800e+04</td>\n",
              "      <td>4.791800e+04</td>\n",
              "      <td>1.004010e+05</td>\n",
              "      <td>3.162270e+05</td>\n",
              "    </tr>\n",
              "  </tbody>\n",
              "</table>\n",
              "</div>\n",
              "      <button class=\"colab-df-convert\" onclick=\"convertToInteractive('df-1b04fc2a-94d4-4763-8bb1-dad0216e1cb3')\"\n",
              "              title=\"Convert this dataframe to an interactive table.\"\n",
              "              style=\"display:none;\">\n",
              "        \n",
              "  <svg xmlns=\"http://www.w3.org/2000/svg\" height=\"24px\"viewBox=\"0 0 24 24\"\n",
              "       width=\"24px\">\n",
              "    <path d=\"M0 0h24v24H0V0z\" fill=\"none\"/>\n",
              "    <path d=\"M18.56 5.44l.94 2.06.94-2.06 2.06-.94-2.06-.94-.94-2.06-.94 2.06-2.06.94zm-11 1L8.5 8.5l.94-2.06 2.06-.94-2.06-.94L8.5 2.5l-.94 2.06-2.06.94zm10 10l.94 2.06.94-2.06 2.06-.94-2.06-.94-.94-2.06-.94 2.06-2.06.94z\"/><path d=\"M17.41 7.96l-1.37-1.37c-.4-.4-.92-.59-1.43-.59-.52 0-1.04.2-1.43.59L10.3 9.45l-7.72 7.72c-.78.78-.78 2.05 0 2.83L4 21.41c.39.39.9.59 1.41.59.51 0 1.02-.2 1.41-.59l7.78-7.78 2.81-2.81c.8-.78.8-2.07 0-2.86zM5.41 20L4 18.59l7.72-7.72 1.47 1.35L5.41 20z\"/>\n",
              "  </svg>\n",
              "      </button>\n",
              "      \n",
              "  <style>\n",
              "    .colab-df-container {\n",
              "      display:flex;\n",
              "      flex-wrap:wrap;\n",
              "      gap: 12px;\n",
              "    }\n",
              "\n",
              "    .colab-df-convert {\n",
              "      background-color: #E8F0FE;\n",
              "      border: none;\n",
              "      border-radius: 50%;\n",
              "      cursor: pointer;\n",
              "      display: none;\n",
              "      fill: #1967D2;\n",
              "      height: 32px;\n",
              "      padding: 0 0 0 0;\n",
              "      width: 32px;\n",
              "    }\n",
              "\n",
              "    .colab-df-convert:hover {\n",
              "      background-color: #E2EBFA;\n",
              "      box-shadow: 0px 1px 2px rgba(60, 64, 67, 0.3), 0px 1px 3px 1px rgba(60, 64, 67, 0.15);\n",
              "      fill: #174EA6;\n",
              "    }\n",
              "\n",
              "    [theme=dark] .colab-df-convert {\n",
              "      background-color: #3B4455;\n",
              "      fill: #D2E3FC;\n",
              "    }\n",
              "\n",
              "    [theme=dark] .colab-df-convert:hover {\n",
              "      background-color: #434B5C;\n",
              "      box-shadow: 0px 1px 3px 1px rgba(0, 0, 0, 0.15);\n",
              "      filter: drop-shadow(0px 1px 2px rgba(0, 0, 0, 0.3));\n",
              "      fill: #FFFFFF;\n",
              "    }\n",
              "  </style>\n",
              "\n",
              "      <script>\n",
              "        const buttonEl =\n",
              "          document.querySelector('#df-1b04fc2a-94d4-4763-8bb1-dad0216e1cb3 button.colab-df-convert');\n",
              "        buttonEl.style.display =\n",
              "          google.colab.kernel.accessAllowed ? 'block' : 'none';\n",
              "\n",
              "        async function convertToInteractive(key) {\n",
              "          const element = document.querySelector('#df-1b04fc2a-94d4-4763-8bb1-dad0216e1cb3');\n",
              "          const dataTable =\n",
              "            await google.colab.kernel.invokeFunction('convertToInteractive',\n",
              "                                                     [key], {});\n",
              "          if (!dataTable) return;\n",
              "\n",
              "          const docLinkHtml = 'Like what you see? Visit the ' +\n",
              "            '<a target=\"_blank\" href=https://colab.research.google.com/notebooks/data_table.ipynb>data table notebook</a>'\n",
              "            + ' to learn more about interactive tables.';\n",
              "          element.innerHTML = '';\n",
              "          dataTable['output_type'] = 'display_data';\n",
              "          await google.colab.output.renderOutput(dataTable, element);\n",
              "          const docLink = document.createElement('div');\n",
              "          docLink.innerHTML = docLinkHtml;\n",
              "          element.appendChild(docLink);\n",
              "        }\n",
              "      </script>\n",
              "    </div>\n",
              "  </div>\n",
              "  "
            ],
            "text/plain": [
              "            count          mean  ...           75%           max\n",
              "Cuenta      209.0  5.367109e+09  ...  7.862644e+09  9.980244e+09\n",
              "Viviendas   209.0  1.050804e+03  ...  1.999000e+03  4.713000e+03\n",
              "Mayo        209.0  8.659845e+04  ...  1.313270e+05  4.266900e+05\n",
              "Junio       209.0  1.182131e+05  ...  1.823160e+05  5.013200e+05\n",
              "Julio       209.0  1.249917e+05  ...  2.056800e+05  4.968400e+05\n",
              "Agosto      209.0  1.209711e+05  ...  1.890000e+05  4.535500e+05\n",
              "Septiembre  209.0  9.410430e+04  ...  1.420700e+05  3.658300e+05\n",
              "Octubre     209.0  7.328733e+04  ...  1.109500e+05  2.943700e+05\n",
              "Noviembre   209.0  6.767849e+04  ...  1.004010e+05  3.162270e+05\n",
              "\n",
              "[9 rows x 8 columns]"
            ]
          },
          "metadata": {},
          "execution_count": 8
        }
      ],
      "source": [
        "#Las principales medidas estadisticas son las siguientes\n",
        "df.describe().T"
      ]
    },
    {
      "cell_type": "code",
      "execution_count": 12,
      "id": "500a8f73",
      "metadata": {
        "scrolled": false,
        "colab": {
          "base_uri": "https://localhost:8080/",
          "height": 466
        },
        "id": "500a8f73",
        "outputId": "2cdf7ce8-b835-4ccc-ada5-5eb7b7268f0f"
      },
      "outputs": [
        {
          "output_type": "stream",
          "name": "stderr",
          "text": [
            "/usr/local/lib/python3.7/dist-packages/seaborn/_decorators.py:43: FutureWarning: Pass the following variables as keyword args: x, y. From version 0.12, the only valid positional argument will be `data`, and passing other arguments without an explicit keyword will result in an error or misinterpretation.\n",
            "  FutureWarning\n"
          ]
        },
        {
          "output_type": "display_data",
          "data": {
            "image/png": "[encoded data removed]",
            "text/plain": [
              "<Figure size 1080x432 with 1 Axes>"
            ]
          },
          "metadata": {
            "needs_background": "light"
          }
        }
      ],
      "source": [
        "#Observamos la variación de cantidad de viviendas por Municipio.\n",
        "##Esto lo hacemos para ver de forma gráfica si existe una tendencia entre los municipios y su volumen de Asentamientos.\n",
        "###Por ejemplo, en Malvinas, Tigre, Pilar y San Fernando vemos una tendencia que asentamientos chicos. No Así en Moreno y San Miguel\n",
        "plt.rcParams['figure.figsize'] = (15, 6)\n",
        "sns.violinplot(df['Partido'], df['Viviendas'], palette = 'colorblind')\n",
        "plt.title('Relación entre Cantidad de Viviendas y los diferentes Paridos', fontsize = 20, fontweight = 30)\n",
        "plt.show()"
      ]
    },
    {
      "cell_type": "code",
      "execution_count": 10,
      "id": "4d8800c6",
      "metadata": {
        "colab": {
          "base_uri": "https://localhost:8080/",
          "height": 465
        },
        "id": "4d8800c6",
        "outputId": "82cbd70b-77c1-413d-ef3a-7199573708c9"
      },
      "outputs": [
        {
          "output_type": "stream",
          "name": "stderr",
          "text": [
            "/usr/local/lib/python3.7/dist-packages/seaborn/_decorators.py:43: FutureWarning: Pass the following variables as keyword args: x, y. From version 0.12, the only valid positional argument will be `data`, and passing other arguments without an explicit keyword will result in an error or misinterpretation.\n",
            "  FutureWarning\n"
          ]
        },
        {
          "output_type": "display_data",
          "data": {
            "image/png": "[encoded data removed]",
            "text/plain": [
              "<Figure size 1080x432 with 1 Axes>"
            ]
          },
          "metadata": {
            "needs_background": "light"
          }
        }
      ],
      "source": [
        "#Misma relación anterior pero con otra gráfica. Fue más que nada para probar otra opción gráfica. A mi criterio, visualizamos más la dispersión de los casos particulares\n",
        "sns.boxenplot(df['Partido'], df['Viviendas'], palette = 'Set3')\n",
        "plt.title('Relacion entre Partidos y cantidad de Viviendas', fontsize = 20, fontweight = 30)\n",
        "plt.show()"
      ]
    },
    {
      "cell_type": "code",
      "execution_count": 60,
      "id": "4e8d2fd9",
      "metadata": {
        "colab": {
          "base_uri": "https://localhost:8080/",
          "height": 300
        },
        "id": "4e8d2fd9",
        "outputId": "73ceb2a9-485a-4996-f4a8-7b3046f839dd"
      },
      "outputs": [
        {
          "output_type": "execute_result",
          "data": {
            "text/html": [
              "\n",
              "  <div id=\"df-99f26486-ac6b-4e23-9c51-3c432a11b9fd\">\n",
              "    <div class=\"colab-df-container\">\n",
              "      <div>\n",
              "<style scoped>\n",
              "    .dataframe tbody tr th:only-of-type {\n",
              "        vertical-align: middle;\n",
              "    }\n",
              "\n",
              "    .dataframe tbody tr th {\n",
              "        vertical-align: top;\n",
              "    }\n",
              "\n",
              "    .dataframe thead th {\n",
              "        text-align: right;\n",
              "    }\n",
              "</style>\n",
              "<table border=\"1\" class=\"dataframe\">\n",
              "  <thead>\n",
              "    <tr style=\"text-align: right;\">\n",
              "      <th></th>\n",
              "      <th>Mayo</th>\n",
              "      <th>Noviembre</th>\n",
              "    </tr>\n",
              "    <tr>\n",
              "      <th>Partido</th>\n",
              "      <th></th>\n",
              "      <th></th>\n",
              "    </tr>\n",
              "  </thead>\n",
              "  <tbody>\n",
              "    <tr>\n",
              "      <th>Jose_C_Paz</th>\n",
              "      <td>60713.108108</td>\n",
              "      <td>60349.054054</td>\n",
              "    </tr>\n",
              "    <tr>\n",
              "      <th>Malvinas_Argentinas</th>\n",
              "      <td>38733.333333</td>\n",
              "      <td>23622.633333</td>\n",
              "    </tr>\n",
              "    <tr>\n",
              "      <th>Moreno</th>\n",
              "      <td>109026.142857</td>\n",
              "      <td>88359.267857</td>\n",
              "    </tr>\n",
              "    <tr>\n",
              "      <th>Pilar</th>\n",
              "      <td>91049.950000</td>\n",
              "      <td>67309.050000</td>\n",
              "    </tr>\n",
              "    <tr>\n",
              "      <th>San_Fernando</th>\n",
              "      <td>88713.608696</td>\n",
              "      <td>61330.565217</td>\n",
              "    </tr>\n",
              "    <tr>\n",
              "      <th>San_Miguel</th>\n",
              "      <td>117896.285714</td>\n",
              "      <td>84633.892857</td>\n",
              "    </tr>\n",
              "    <tr>\n",
              "      <th>Tigre</th>\n",
              "      <td>94847.933333</td>\n",
              "      <td>75237.200000</td>\n",
              "    </tr>\n",
              "  </tbody>\n",
              "</table>\n",
              "</div>\n",
              "      <button class=\"colab-df-convert\" onclick=\"convertToInteractive('df-99f26486-ac6b-4e23-9c51-3c432a11b9fd')\"\n",
              "              title=\"Convert this dataframe to an interactive table.\"\n",
              "              style=\"display:none;\">\n",
              "        \n",
              "  <svg xmlns=\"http://www.w3.org/2000/svg\" height=\"24px\"viewBox=\"0 0 24 24\"\n",
              "       width=\"24px\">\n",
              "    <path d=\"M0 0h24v24H0V0z\" fill=\"none\"/>\n",
              "    <path d=\"M18.56 5.44l.94 2.06.94-2.06 2.06-.94-2.06-.94-.94-2.06-.94 2.06-2.06.94zm-11 1L8.5 8.5l.94-2.06 2.06-.94-2.06-.94L8.5 2.5l-.94 2.06-2.06.94zm10 10l.94 2.06.94-2.06 2.06-.94-2.06-.94-.94-2.06-.94 2.06-2.06.94z\"/><path d=\"M17.41 7.96l-1.37-1.37c-.4-.4-.92-.59-1.43-.59-.52 0-1.04.2-1.43.59L10.3 9.45l-7.72 7.72c-.78.78-.78 2.05 0 2.83L4 21.41c.39.39.9.59 1.41.59.51 0 1.02-.2 1.41-.59l7.78-7.78 2.81-2.81c.8-.78.8-2.07 0-2.86zM5.41 20L4 18.59l7.72-7.72 1.47 1.35L5.41 20z\"/>\n",
              "  </svg>\n",
              "      </button>\n",
              "      \n",
              "  <style>\n",
              "    .colab-df-container {\n",
              "      display:flex;\n",
              "      flex-wrap:wrap;\n",
              "      gap: 12px;\n",
              "    }\n",
              "\n",
              "    .colab-df-convert {\n",
              "      background-color: #E8F0FE;\n",
              "      border: none;\n",
              "      border-radius: 50%;\n",
              "      cursor: pointer;\n",
              "      display: none;\n",
              "      fill: #1967D2;\n",
              "      height: 32px;\n",
              "      padding: 0 0 0 0;\n",
              "      width: 32px;\n",
              "    }\n",
              "\n",
              "    .colab-df-convert:hover {\n",
              "      background-color: #E2EBFA;\n",
              "      box-shadow: 0px 1px 2px rgba(60, 64, 67, 0.3), 0px 1px 3px 1px rgba(60, 64, 67, 0.15);\n",
              "      fill: #174EA6;\n",
              "    }\n",
              "\n",
              "    [theme=dark] .colab-df-convert {\n",
              "      background-color: #3B4455;\n",
              "      fill: #D2E3FC;\n",
              "    }\n",
              "\n",
              "    [theme=dark] .colab-df-convert:hover {\n",
              "      background-color: #434B5C;\n",
              "      box-shadow: 0px 1px 3px 1px rgba(0, 0, 0, 0.15);\n",
              "      filter: drop-shadow(0px 1px 2px rgba(0, 0, 0, 0.3));\n",
              "      fill: #FFFFFF;\n",
              "    }\n",
              "  </style>\n",
              "\n",
              "      <script>\n",
              "        const buttonEl =\n",
              "          document.querySelector('#df-99f26486-ac6b-4e23-9c51-3c432a11b9fd button.colab-df-convert');\n",
              "        buttonEl.style.display =\n",
              "          google.colab.kernel.accessAllowed ? 'block' : 'none';\n",
              "\n",
              "        async function convertToInteractive(key) {\n",
              "          const element = document.querySelector('#df-99f26486-ac6b-4e23-9c51-3c432a11b9fd');\n",
              "          const dataTable =\n",
              "            await google.colab.kernel.invokeFunction('convertToInteractive',\n",
              "                                                     [key], {});\n",
              "          if (!dataTable) return;\n",
              "\n",
              "          const docLinkHtml = 'Like what you see? Visit the ' +\n",
              "            '<a target=\"_blank\" href=https://colab.research.google.com/notebooks/data_table.ipynb>data table notebook</a>'\n",
              "            + ' to learn more about interactive tables.';\n",
              "          element.innerHTML = '';\n",
              "          dataTable['output_type'] = 'display_data';\n",
              "          await google.colab.output.renderOutput(dataTable, element);\n",
              "          const docLink = document.createElement('div');\n",
              "          docLink.innerHTML = docLinkHtml;\n",
              "          element.appendChild(docLink);\n",
              "        }\n",
              "      </script>\n",
              "    </div>\n",
              "  </div>\n",
              "  "
            ],
            "text/plain": [
              "                              Mayo     Noviembre\n",
              "Partido                                         \n",
              "Jose_C_Paz            60713.108108  60349.054054\n",
              "Malvinas_Argentinas   38733.333333  23622.633333\n",
              "Moreno               109026.142857  88359.267857\n",
              "Pilar                 91049.950000  67309.050000\n",
              "San_Fernando          88713.608696  61330.565217\n",
              "San_Miguel           117896.285714  84633.892857\n",
              "Tigre                 94847.933333  75237.200000"
            ]
          },
          "metadata": {},
          "execution_count": 60
        }
      ],
      "source": [
        "#Acá buscamos comparar el consumo de Noviembre (CALOR) y de Mayo (FRIO) entre municipios\n",
        "##Esto nos podría mostar la tendencia de existencia de gas en ciertos municipios. Problema que existe en el conurbano en invierno, la falta de gas hace que el consumo de luz se eleve.\n",
        "\n",
        "df_stats = df.groupby(['Partido']).mean()[['Mayo', 'Noviembre']]\n",
        "df_stats"
      ]
    },
    {
      "cell_type": "code",
      "source": [
        "df_stats.plot.bar()"
      ],
      "metadata": {
        "colab": {
          "base_uri": "https://localhost:8080/",
          "height": 498
        },
        "id": "Ep1WLaJEQ8QT",
        "outputId": "ac3215c2-41d2-4d5d-f333-b25b534ad8c1"
      },
      "id": "Ep1WLaJEQ8QT",
      "execution_count": 62,
      "outputs": [
        {
          "output_type": "execute_result",
          "data": {
            "text/plain": [
              "<matplotlib.axes._subplots.AxesSubplot at 0x7fb21386a390>"
            ]
          },
          "metadata": {},
          "execution_count": 62
        },
        {
          "output_type": "display_data",
          "data": {
            "image/png": "[encoded data removed]",
            "text/plain": [
              "<Figure size 1080x432 with 1 Axes>"
            ]
          },
          "metadata": {
            "needs_background": "light"
          }
        }
      ]
    },
    {
      "cell_type": "code",
      "execution_count": null,
      "id": "e902ea10",
      "metadata": {
        "id": "e902ea10",
        "outputId": "356d7893-b972-4e12-f170-d15b75685368"
      },
      "outputs": [
        {
          "data": {
            "image/png": "[encoded data removed]",
            "text/plain": [
              "<Figure size 1440x1080 with 2 Axes>"
            ]
          },
          "metadata": {
            "needs_background": "light"
          },
          "output_type": "display_data"
        }
      ],
      "source": [
        "#Lo utilizamos sólo para ver relaciones entre variables, ejemplo de la clase.\n",
        "plt.rcParams['figure.figsize'] = (20, 15)\n",
        "\n",
        "sns.heatmap(df.corr(), annot = True, cmap = 'Wistia')\n",
        "plt.title('Heatmap for the Dataset', fontsize = 20)\n",
        "plt.show()"
      ]
    },
    {
      "cell_type": "code",
      "execution_count": null,
      "id": "a50fe988",
      "metadata": {
        "id": "a50fe988"
      },
      "outputs": [],
      "source": [
        ""
      ]
    }
  ],
  "metadata": {
    "kernelspec": {
      "display_name": "Python 3 (ipykernel)",
      "language": "python",
      "name": "python3"
    },
    "language_info": {
      "codemirror_mode": {
        "name": "ipython",
        "version": 3
      },
      "file_extension": ".py",
      "mimetype": "text/x-python",
      "name": "python",
      "nbconvert_exporter": "python",
      "pygments_lexer": "ipython3",
      "version": "3.9.5"
    },
    "colab": {
      "name": "Idea+Bellesi (Bivariado).ipynb",
      "provenance": []
    }
  },
  "nbformat": 4,
  "nbformat_minor": 5
}